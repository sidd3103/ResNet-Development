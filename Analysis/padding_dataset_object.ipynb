{
 "cells": [
  {
   "cell_type": "code",
   "execution_count": 12,
   "id": "strong-sound",
   "metadata": {},
   "outputs": [],
   "source": [
    "# torch imports\n",
    "from torch import from_numpy\n",
    "\n",
    "# generic imports\n",
    "import numpy as np\n",
    "\n",
    "# WatChMaL imports\n",
    "from watchmal.dataset.h5_dataset import H5Dataset\n",
    "from watchmal.dataset.cnn_mpmt import transformations\n",
    "import watchmal.dataset.data_utils as du"
   ]
  },
  {
   "cell_type": "code",
   "execution_count": 5,
   "id": "whole-implement",
   "metadata": {},
   "outputs": [],
   "source": [
    "sys.path.append(\"../../WatChMaL_analysis_copy\")\n",
    "sys.path.append(\"../../WatChMaL_analysis_copy/WatChMaL\")"
   ]
  },
  {
   "cell_type": "code",
   "execution_count": 6,
   "id": "available-dressing",
   "metadata": {},
   "outputs": [
    {
     "ename": "IndentationError",
     "evalue": "expected an indented block (<ipython-input-6-83309d679d1d>, line 5)",
     "output_type": "error",
     "traceback": [
      "\u001b[0;36m  File \u001b[0;32m\"<ipython-input-6-83309d679d1d>\"\u001b[0;36m, line \u001b[0;32m5\u001b[0m\n\u001b[0;31m    def __getitem__(self, index):\u001b[0m\n\u001b[0m    ^\u001b[0m\n\u001b[0;31mIndentationError\u001b[0m\u001b[0;31m:\u001b[0m expected an indented block\n"
     ]
    }
   ],
   "source": [
    "class PaddedDataset(H5Dataset):\n",
    "    def __init__(self, h5file, mpmt_positions_file, is_distributed, transforms=None, collapse_arrays=False):\n",
    "        #data loading\n",
    "    \n",
    "    def __getitem__(self, index):\n",
    "        #dataset[index]\n",
    "        \n",
    "    def __len__(self):\n",
    "        # len(dataset)\n",
    "        \n",
    "        "
   ]
  },
  {
   "cell_type": "code",
   "execution_count": null,
   "id": "distant-bottom",
   "metadata": {},
   "outputs": [],
   "source": []
  }
 ],
 "metadata": {
  "kernelspec": {
   "display_name": "Python 3",
   "language": "python",
   "name": "python3"
  },
  "language_info": {
   "codemirror_mode": {
    "name": "ipython",
    "version": 3
   },
   "file_extension": ".py",
   "mimetype": "text/x-python",
   "name": "python",
   "nbconvert_exporter": "python",
   "pygments_lexer": "ipython3",
   "version": "3.8.5"
  }
 },
 "nbformat": 4,
 "nbformat_minor": 5
}
