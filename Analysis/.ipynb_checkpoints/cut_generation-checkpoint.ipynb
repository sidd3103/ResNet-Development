{
 "cells": [
  {
   "cell_type": "markdown",
   "id": "liable-revision",
   "metadata": {},
   "source": [
    "# Generate Cuts to Apply and Mapping to Root Files\n"
   ]
  },
  {
   "cell_type": "code",
   "execution_count": 1,
   "id": "divine-broadcasting",
   "metadata": {},
   "outputs": [],
   "source": [
    "import uproot\n",
    "import numpy as np\n",
    "import sys\n",
    "import h5py\n",
    "import pickle"
   ]
  },
  {
   "cell_type": "code",
   "execution_count": 2,
   "id": "blessed-arnold",
   "metadata": {},
   "outputs": [],
   "source": [
    "sys.path.append('../../WatChMaL_analysis_copy/WatChMaL')\n",
    "\n",
    "from watchmal.dataset.DigiTruthMapping import DigiTruthMapping\n",
    "from watchmal.dataset.h5_dataset import H5TrueDataset\n",
    "from watchmal.dataset.cnn_mpmt.cnn_mpmt_dataset import CNNmPMTDataset"
   ]
  },
  {
   "cell_type": "markdown",
   "id": "presidential-forestry",
   "metadata": {},
   "source": [
    "## Load Dataset\n"
   ]
  },
  {
   "cell_type": "code",
   "execution_count": 3,
   "id": "approximate-savage",
   "metadata": {},
   "outputs": [
    {
     "name": "stdout",
     "output_type": "stream",
     "text": [
      "<KeysViewHDF5 ['angles', 'energies', 'event_hits_index', 'event_ids', 'hit_charge', 'hit_pmt', 'hit_time', 'labels', 'positions', 'root_files', 'veto', 'veto2']>\n"
     ]
    }
   ],
   "source": [
    "# Import test events from h5 file\n",
    "data_path = \"/fast_scratch/WatChMaL/data/IWCD_mPMT_Short/IWCD_mPMT_Short_emgp0_E0to1000MeV_digihits.h5\"\n",
    "data_file = h5py.File(data_path, \"r\")\n",
    "\n",
    "print(data_file.keys())\n",
    "\n",
    "angles     = np.array(data_file['angles'])\n",
    "energies   = np.array(data_file['energies'])\n",
    "positions  = np.array(data_file['positions'])\n",
    "labels     = np.array(data_file['labels'])\n",
    "root_files = np.array(data_file['root_files'])\n",
    "event_ids  = np.array(data_file['event_ids'])\n",
    "vetos      = np.array(data_file['veto'])"
   ]
  },
  {
   "cell_type": "code",
   "execution_count": 4,
   "id": "inner-newton",
   "metadata": {},
   "outputs": [],
   "source": [
    "idxs_path = '/fast_scratch/WatChMaL/data/IWCD_mPMT_Short/index_lists/4class_e_mu_gamma_pi0/IWCD_mPMT_Short_4_class_3M_emgp0_idxs.npz'\n",
    "idxs = np.load(idxs_path, allow_pickle=True)\n",
    "\n",
    "train_idxs = idxs['train_idxs']\n",
    "val_idxs   = idxs['val_idxs']\n",
    "test_idxs  = idxs['test_idxs']"
   ]
  },
  {
   "cell_type": "code",
   "execution_count": 9,
   "id": "sexual-manner",
   "metadata": {},
   "outputs": [
    {
     "name": "stdout",
     "output_type": "stream",
     "text": [
      "[b'/localscratch/prouse.56905527.0/WCSim/e-/E0to1000MeV/unif-pos-R400-y300cm/4pi-dir/IWCD_mPMT_Short_e-_E0to1000MeV_unif-pos-R400-y300cm_4pi-dir_3000evts_0.root'\n",
      " b'/localscratch/prouse.56905527.0/WCSim/e-/E0to1000MeV/unif-pos-R400-y300cm/4pi-dir/IWCD_mPMT_Short_e-_E0to1000MeV_unif-pos-R400-y300cm_4pi-dir_3000evts_0.root']\n"
     ]
    }
   ],
   "source": [
    "print(root_files[test_idxs][0:2])"
   ]
  },
  {
   "cell_type": "markdown",
   "id": "stopped-sigma",
   "metadata": {},
   "source": [
    "## Load vetos\n"
   ]
  },
  {
   "cell_type": "code",
   "execution_count": 10,
   "id": "located-designation",
   "metadata": {},
   "outputs": [],
   "source": [
    "test_vetos  = vetos[test_idxs]\n",
    "test_labels = labels[test_idxs]\n",
    "\n",
    "e_OD_veto   = (test_labels == 1) & (test_vetos)\n",
    "mu_OD_veto  = (test_labels == 2) & (test_vetos)"
   ]
  },
  {
   "cell_type": "code",
   "execution_count": 11,
   "id": "covered-offense",
   "metadata": {},
   "outputs": [],
   "source": [
    "fitqun_path = '/home/zpatel/WatChMaL_analysis_copy/fitqun_comparison/fitqun_comparison_prep/prep_data/'"
   ]
  },
  {
   "cell_type": "markdown",
   "id": "blank-miami",
   "metadata": {},
   "source": [
    "## Load True Momenta"
   ]
  },
  {
   "cell_type": "code",
   "execution_count": 12,
   "id": "incorporate-asset",
   "metadata": {},
   "outputs": [],
   "source": [
    "momenta = np.load(fitqun_path+'3M_momenta.npz', allow_pickle=True)\n",
    "\n",
    "test_true_momenta = momenta['test_momenta']"
   ]
  },
  {
   "cell_type": "markdown",
   "id": "characteristic-winter",
   "metadata": {},
   "source": [
    "## Load to_wall"
   ]
  },
  {
   "cell_type": "code",
   "execution_count": 13,
   "id": "colonial-limit",
   "metadata": {},
   "outputs": [],
   "source": [
    "to_wall = np.load(fitqun_path+'3M_d_to_wall.npz', allow_pickle=True)\n",
    "\n",
    "test_to_wall = to_wall['test_d_to_wall'] / 100"
   ]
  },
  {
   "cell_type": "markdown",
   "id": "clear-opportunity",
   "metadata": {},
   "source": [
    "## Load d_wall"
   ]
  },
  {
   "cell_type": "code",
   "execution_count": 14,
   "id": "national-northern",
   "metadata": {},
   "outputs": [],
   "source": [
    "d_wall = np.load(fitqun_path+'3M_d_wall.npz', allow_pickle=True)\n",
    "\n",
    "test_d_wall = d_wall['test_d_wall'] / 100"
   ]
  },
  {
   "cell_type": "markdown",
   "id": "handy-stylus",
   "metadata": {},
   "source": [
    "## Load Data Mappings"
   ]
  },
  {
   "cell_type": "code",
   "execution_count": 15,
   "id": "equivalent-knight",
   "metadata": {},
   "outputs": [
    {
     "name": "stdout",
     "output_type": "stream",
     "text": [
      "9825\n"
     ]
    }
   ],
   "source": [
    "dtm = DigiTruthMapping(dataset=fitqun_path+'data_for_truth.pkl', mcset=fitqun_path+'truth_for_data.pkl')\n",
    "print(dtm.get_data_entry(10000))"
   ]
  },
  {
   "cell_type": "code",
   "execution_count": 16,
   "id": "frank-wisconsin",
   "metadata": {},
   "outputs": [
    {
     "name": "stdout",
     "output_type": "stream",
     "text": [
      "9572\n"
     ]
    }
   ],
   "source": [
    "pion_dtm = DigiTruthMapping(dataset=fitqun_path+'pion_data_for_truth.pkl', mcset=fitqun_path+'pion_truth_for_data.pkl')\n",
    "print(pion_dtm.get_data_entry(10000))"
   ]
  },
  {
   "cell_type": "markdown",
   "id": "lonely-reference",
   "metadata": {},
   "source": [
    "## Load Root Data"
   ]
  },
  {
   "cell_type": "code",
   "execution_count": 17,
   "id": "introductory-symposium",
   "metadata": {},
   "outputs": [
    {
     "data": {
      "text/plain": [
       "AsJagged(AsDtype(\"('>i4', (7,))\"))"
      ]
     },
     "execution_count": 17,
     "metadata": {},
     "output_type": "execute_result"
    }
   ],
   "source": [
    "# Retrieve flags\n",
    "gamma_file_data   = uproot.open('/fast_scratch/WatChMaL/data/IWCD_mPMT_Short/fiTQun/IWCD_mPMT_Short_gamma_E0to1000MeV_unif-pos-R400-y300cm_4pi-dir.fiTQun.root')['fiTQun;1']\n",
    "e_file_data       = uproot.open('/fast_scratch/WatChMaL/data/IWCD_mPMT_Short/fiTQun/IWCD_mPMT_Short_e-_E0to1000MeV_unif-pos-R400-y300cm_4pi-dir.fiTQun.root')['fiTQun;1']\n",
    "mu_file_data      = uproot.open('/fast_scratch/WatChMaL/data/IWCD_mPMT_Short/fiTQun/IWCD_mPMT_Short_mu-_E0to1000MeV_unif-pos-R400-y300cm_4pi-dir.fiTQun.root')['fiTQun;1']\n",
    "pion_file_data    = uproot.open('/fast_scratch/WatChMaL/data/IWCD_mPMT_Short/fiTQun/IWCD_mPMT_Short_pi0_E0to1000MeV_unif-pos-R400-y300cm_4pi-dir.fiTQun.root')['fiTQun;1']\n",
    "\n",
    "gamma_file_data['fq1rpcflg'].interpretation"
   ]
  },
  {
   "cell_type": "markdown",
   "id": "federal-scholar",
   "metadata": {},
   "source": [
    "## Find indices in true dataset for offset to root files"
   ]
  },
  {
   "cell_type": "code",
   "execution_count": 18,
   "id": "excited-niger",
   "metadata": {},
   "outputs": [],
   "source": [
    "truehits_filepath = '/data/WatChMaL/data/IWCD_mPMT_Short_emg_E0to1000MeV_truehits.h5'\n",
    "truehits_dataset = H5TrueDataset(h5_path=truehits_filepath)"
   ]
  },
  {
   "cell_type": "code",
   "execution_count": 19,
   "id": "white-vitamin",
   "metadata": {},
   "outputs": [
    {
     "name": "stdout",
     "output_type": "stream",
     "text": [
      "(21000000,)\n",
      "3000000\n",
      "0\n",
      "6000000\n",
      "20613195\n"
     ]
    }
   ],
   "source": [
    "print(truehits_dataset.labels.shape)\n",
    "gamma_base_idx = np.where(truehits_dataset.labels == 0)[0][0]\n",
    "e_base_idx     = np.where(truehits_dataset.labels == 1)[0][0]\n",
    "mu_base_idx    = np.where(truehits_dataset.labels == 2)[0][0]\n",
    "pion_base_idx  = np.where(labels == 3)[0][0]\n",
    "\n",
    "print(gamma_base_idx)\n",
    "print(e_base_idx)\n",
    "print(mu_base_idx)\n",
    "print(pion_base_idx)"
   ]
  },
  {
   "cell_type": "markdown",
   "id": "olympic-despite",
   "metadata": {},
   "source": [
    "## Load Run Indices.npy"
   ]
  },
  {
   "cell_type": "code",
   "execution_count": 21,
   "id": "utility-premises",
   "metadata": {},
   "outputs": [],
   "source": [
    "indices = np.load('/home/zpatel/WatChMaL/outputs/2021-06-15/10-30-10/outputs/indices.npy')"
   ]
  },
  {
   "cell_type": "markdown",
   "id": "brave-occupation",
   "metadata": {},
   "source": [
    "## Construct mapping from test set to fitqun"
   ]
  },
  {
   "cell_type": "code",
   "execution_count": 162,
   "id": "younger-institute",
   "metadata": {},
   "outputs": [],
   "source": [
    "truehits_arr = np.zeros_like(test_idxs)\n",
    "for i, idx in enumerate(test_idxs):\n",
    "    truehits_arr[i] = idx"
   ]
  },
  {
   "cell_type": "code",
   "execution_count": 163,
   "id": "disturbed-drove",
   "metadata": {},
   "outputs": [
    {
     "data": {
      "text/plain": [
       "(4671749,)"
      ]
     },
     "execution_count": 163,
     "metadata": {},
     "output_type": "execute_result"
    }
   ],
   "source": [
    "truehits_arr.shape"
   ]
  },
  {
   "cell_type": "code",
   "execution_count": 164,
   "id": "introductory-trance",
   "metadata": {},
   "outputs": [],
   "source": [
    "sorted_truehits = truehits_arr[indices]\n",
    "sorted_test_idxs = test_idxs[indices]"
   ]
  },
  {
   "cell_type": "code",
   "execution_count": 113,
   "id": "executed-blend",
   "metadata": {},
   "outputs": [],
   "source": [
    "gamma_fq_indices = []\n",
    "e_fq_indices     = []\n",
    "mu_fq_indices    = []\n",
    "pion_fq_indices  = []\n",
    "\n",
    "for idx in test_idxs:\n",
    "    particle_label = labels[idx]\n",
    "    truehits_index = dtm.get_truth_entry(idx)\n",
    "    \n",
    "    if particle_label == 0:\n",
    "        gamma_fq_indices.append(truehits_index % gamma_base_idx)\n",
    "    elif particle_label == 1:\n",
    "        e_fq_indices.append(truehits_index)\n",
    "    elif particle_label == 2:\n",
    "        mu_fq_indices.append(truehits_index % mu_base_idx)\n",
    "    elif particle_label == 3:\n",
    "        # Use pion map instead\n",
    "        truehits_index = pion_dtm.get_truth_entry(idx % pion_base_idx)\n",
    "        pion_fq_indices.append(truehits_index)\n",
    "    \n",
    "gamma_fq_indices = np.array(gamma_fq_indices)\n",
    "e_fq_indices     = np.array(e_fq_indices)\n",
    "mu_fq_indices    = np.array(mu_fq_indices)\n",
    "pion_fq_indices  = np.array(pion_fq_indices)"
   ]
  },
  {
   "cell_type": "markdown",
   "id": "refined-jurisdiction",
   "metadata": {},
   "source": [
    "### Load fitqun Flags"
   ]
  },
  {
   "cell_type": "code",
   "execution_count": 118,
   "id": "north-falls",
   "metadata": {},
   "outputs": [],
   "source": [
    "gamma_flags = gamma_file_data.arrays('fq1rpcflg')['fq1rpcflg']\n",
    "e_flags     = e_file_data.arrays('fq1rpcflg')['fq1rpcflg']\n",
    "mu_flags    = mu_file_data.arrays('fq1rpcflg')['fq1rpcflg']\n",
    "pion_flags  = pion_file_data.arrays('fq1rpcflg')['fq1rpcflg']\n",
    "\n",
    "gamma_fq1rpcflg_1 = np.array(gamma_flags[:, 0, 1])\n",
    "e_fq1rpcflg_1     = np.array(e_flags[:, 0, 1])\n",
    "mu_fq1rpcflg_1    = np.array(mu_flags[:, 0, 1])\n",
    "pion_fq1rpcflg_1  = np.array(pion_flags[:, 0, 1])\n",
    "\n",
    "gamma_fq1rpcflg_2 = np.array(gamma_flags[:, 0, 2])\n",
    "e_fq1rpcflg_2     = np.array(e_flags[:, 0, 2])\n",
    "mu_fq1rpcflg_2    = np.array(mu_flags[:, 0, 2])\n",
    "pion_fq1rpcflg_2  = np.array(pion_flags[:, 0, 2])"
   ]
  },
  {
   "cell_type": "code",
   "execution_count": 119,
   "id": "inappropriate-split",
   "metadata": {},
   "outputs": [],
   "source": [
    "test_fq1rpcflg_1 = np.concatenate((e_fq1rpcflg_1[e_fq_indices],\n",
    "                                  mu_fq1rpcflg_1[mu_fq_indices],\n",
    "                                  gamma_fq1rpcflg_1[gamma_fq_indices],\n",
    "                                  pion_fq1rpcflg_1[pion_fq_indices]\n",
    "                                )) != 0\n",
    "\n",
    "test_fq1rpcflg_2 = np.concatenate((e_fq1rpcflg_2[e_fq_indices],\n",
    "                                  mu_fq1rpcflg_2[mu_fq_indices],\n",
    "                                  gamma_fq1rpcflg_2[gamma_fq_indices],\n",
    "                                  pion_fq1rpcflg_2[pion_fq_indices]\n",
    "                                )) != 0\n"
   ]
  },
  {
   "cell_type": "code",
   "execution_count": 120,
   "id": "owned-douglas",
   "metadata": {},
   "outputs": [],
   "source": [
    "gamma_fqpi0pcflg = np.array(gamma_file_data.arrays('fqpi0pcflg')['fqpi0pcflg'][:, 0])\n",
    "e_fqpi0pcflg     = np.array(e_file_data.arrays('fqpi0pcflg')['fqpi0pcflg'][:, 0])\n",
    "mu_fqpi0pcflg    = np.array(mu_file_data.arrays('fqpi0pcflg')['fqpi0pcflg'][:, 0])\n",
    "pion_fqpi0pcflg  = np.array(pion_file_data.arrays('fqpi0pcflg')['fqpi0pcflg'][:, 0])"
   ]
  },
  {
   "cell_type": "code",
   "execution_count": 121,
   "id": "interested-surgeon",
   "metadata": {},
   "outputs": [],
   "source": [
    "test_fqpi0pcflg = np.concatenate((e_fqpi0pcflg[e_fq_indices],\n",
    "                                mu_fqpi0pcflg[mu_fq_indices],\n",
    "                                gamma_fqpi0pcflg[gamma_fq_indices],\n",
    "                                pion_fqpi0pcflg[pion_fq_indices]\n",
    "                         )) != 0"
   ]
  },
  {
   "cell_type": "markdown",
   "id": "resident-processor",
   "metadata": {},
   "source": [
    "## Cuts"
   ]
  },
  {
   "cell_type": "code",
   "execution_count": 122,
   "id": "concrete-regulation",
   "metadata": {},
   "outputs": [],
   "source": [
    "to_wall_cut = ((test_labels == 0) | (test_labels == 1) | (test_labels == 3)) & (test_to_wall < 0.63*np.log(test_true_momenta) - 2)\n",
    "d_wall_cut  = test_d_wall < 0.5"
   ]
  },
  {
   "cell_type": "code",
   "execution_count": 123,
   "id": "hairy-omega",
   "metadata": {},
   "outputs": [],
   "source": [
    "fq_comparison = to_wall_cut | d_wall_cut | mu_OD_veto | test_fq1rpcflg_1 | test_fq1rpcflg_2"
   ]
  },
  {
   "cell_type": "code",
   "execution_count": 124,
   "id": "executed-headquarters",
   "metadata": {},
   "outputs": [],
   "source": [
    "fq_comparison_pi0 = fq_comparison | test_fqpi0pcflg"
   ]
  },
  {
   "cell_type": "code",
   "execution_count": 125,
   "id": "collect-princess",
   "metadata": {},
   "outputs": [],
   "source": [
    "fq_comparison_OD_veto = fq_comparison | e_OD_veto"
   ]
  },
  {
   "cell_type": "code",
   "execution_count": 126,
   "id": "skilled-kennedy",
   "metadata": {},
   "outputs": [],
   "source": [
    "cuts = {\n",
    "        'fq_comparison'        : np.where(fq_comparison[indices])[0],\n",
    "        'fq_comparison_pi0'    : np.where(fq_comparison_pi0[indices])[0],\n",
    "        'fq_comparison_OD_veto': np.where(fq_comparison_OD_veto[indices])[0],\n",
    "        'to_wall_cut'          : np.where(to_wall_cut[indices])[0],\n",
    "        'd_wall_cut'           : np.where(d_wall_cut[indices])[0],\n",
    "        'e_OD_veto'            : np.where(e_OD_veto[indices])[0],\n",
    "        'mu_OD_veto'           : np.where(mu_OD_veto[indices])[0],\n",
    "        'fq1rpcflg_1'          : np.where(test_fq1rpcflg_1[indices])[0],\n",
    "        'fq1rpcflg_2'          : np.where(test_fq1rpcflg_2[indices])[0]\n",
    "        }"
   ]
  },
  {
   "cell_type": "code",
   "execution_count": 142,
   "id": "alpine-poetry",
   "metadata": {},
   "outputs": [
    {
     "data": {
      "text/plain": [
       "(4671749,)"
      ]
     },
     "execution_count": 142,
     "metadata": {},
     "output_type": "execute_result"
    }
   ],
   "source": [
    "fq_comparison_pi0[indices].shape"
   ]
  },
  {
   "cell_type": "code",
   "execution_count": 141,
   "id": "iraqi-hayes",
   "metadata": {},
   "outputs": [
    {
     "data": {
      "text/plain": [
       "((4671749,),\n",
       " (4671749,),\n",
       " (4671749,),\n",
       " (4671749,),\n",
       " (4671749,),\n",
       " (4671749,),\n",
       " (4671749,),\n",
       " (4671749,),\n",
       " (4671749,))"
      ]
     },
     "execution_count": 141,
     "metadata": {},
     "output_type": "execute_result"
    }
   ],
   "source": [
    "fq_comparison_pi0.shape, fq_comparison.shape, fq_comparison_OD_veto.shape, to_wall_cut.shape, d_wall_cut.shape, e_OD_veto.shape, mu_OD_veto.shape, test_fq1rpcflg_1.shape, test_fq1rpcflg_2.shape"
   ]
  },
  {
   "cell_type": "code",
   "execution_count": 128,
   "id": "banner-stranger",
   "metadata": {},
   "outputs": [],
   "source": [
    "with open('/home/zpatel/zp_analysis_notebooks/cuts/4_class_3M_fitqun_cuts.pickle', 'wb') as handle:\n",
    "    pickle.dump(cuts, handle, protocol=pickle.HIGHEST_PROTOCOL)"
   ]
  },
  {
   "cell_type": "code",
   "execution_count": 129,
   "id": "alien-transmission",
   "metadata": {},
   "outputs": [],
   "source": [
    "fq_mapping = {\n",
    "        'gamma_fq_indices': gamma_fq_indices,\n",
    "        'e_fq_indices'    : e_fq_indices,\n",
    "        'mu_fq_indices'   : mu_fq_indices,\n",
    "        'pion_fq_indices' : pion_fq_indices,\n",
    "        }"
   ]
  },
  {
   "cell_type": "code",
   "execution_count": 130,
   "id": "small-privilege",
   "metadata": {},
   "outputs": [
    {
     "data": {
      "text/plain": [
       "4671749"
      ]
     },
     "execution_count": 130,
     "metadata": {},
     "output_type": "execute_result"
    }
   ],
   "source": [
    "len(gamma_fq_indices) + len(e_fq_indices) + len(mu_fq_indices) + len(pion_fq_indices)"
   ]
  },
  {
   "cell_type": "code",
   "execution_count": 131,
   "id": "maritime-plane",
   "metadata": {},
   "outputs": [],
   "source": [
    "with open('/home/zpatel/zp_analysis_notebooks/cuts/4_class_3M_fitqun_mapping.pickle', 'wb') as handle:\n",
    "    pickle.dump(fq_mapping, handle, protocol=pickle.HIGHEST_PROTOCOL)"
   ]
  }
 ],
 "metadata": {
  "kernelspec": {
   "display_name": "Python 3",
   "language": "python",
   "name": "python3"
  },
  "language_info": {
   "codemirror_mode": {
    "name": "ipython",
    "version": 3
   },
   "file_extension": ".py",
   "mimetype": "text/x-python",
   "name": "python",
   "nbconvert_exporter": "python",
   "pygments_lexer": "ipython3",
   "version": "3.8.5"
  }
 },
 "nbformat": 4,
 "nbformat_minor": 5
}
