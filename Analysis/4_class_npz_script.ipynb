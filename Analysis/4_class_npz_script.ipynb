{
 "cells": [
  {
   "cell_type": "code",
   "execution_count": 1,
   "id": "attempted-plasma",
   "metadata": {},
   "outputs": [],
   "source": [
    "import numpy as np"
   ]
  },
  {
   "cell_type": "code",
   "execution_count": 2,
   "id": "binding-visit",
   "metadata": {},
   "outputs": [],
   "source": [
    "data_file = np.load('/fast_scratch/WatChMaL/data/IWCD_mPMT_Short_4_class_3M_emgp0_idxs.npz')\n",
    "data_OD_veto = np.load('/fast_scratch/WatChMaL/data/IWCD_mPMT_Short_4_class_3M_emgp0_OD_veto_idxs.npz')"
   ]
  },
  {
   "cell_type": "code",
   "execution_count": 3,
   "id": "numerous-alabama",
   "metadata": {},
   "outputs": [
    {
     "data": {
      "text/plain": [
       "(['train_idxs', 'val_idxs', 'test_idxs'],\n",
       " ['train_idxs', 'val_idxs', 'test_idxs'])"
      ]
     },
     "execution_count": 3,
     "metadata": {},
     "output_type": "execute_result"
    }
   ],
   "source": [
    "list(data_file.keys()), list(data_OD_veto.keys())"
   ]
  },
  {
   "cell_type": "code",
   "execution_count": 4,
   "id": "animated-raise",
   "metadata": {},
   "outputs": [],
   "source": [
    "train_total = sum([len(data_file[file]) for file in data_file])\n",
    "test_total = sum([len(data_OD_veto[file]) for file in data_OD_veto])\n"
   ]
  },
  {
   "cell_type": "code",
   "execution_count": 6,
   "id": "interim-green",
   "metadata": {},
   "outputs": [
    {
     "name": "stdout",
     "output_type": "stream",
     "text": [
      "Non-Veto File\n",
      "\n",
      "train_idxs: length 5840397,  0.5000231159356637\n",
      "val_idxs: length 1168108,  0.10000707176402157\n",
      "test_idxs: length 4671749,  0.3999698123003147\n",
      "Total: 11680254\n",
      "\n",
      "Veto File\n",
      "\n",
      "train_idxs: length 4653234,  0.499997367436174\n",
      "val_idxs: length 931048,  0.10004258306302992\n",
      "test_idxs: length 3722235,  0.39996004950079606\n",
      "Total: 9306517\n"
     ]
    }
   ],
   "source": [
    "print(\"Non-Veto File\\n\")\n",
    "for item in data_file.keys():\n",
    "    print(str(item) + \": length \" + str(len(data_file[item])) + ', ', str(len(data_file[item])/train_total))\n",
    "print('Total: ' + str(train_total)) \n",
    "\n",
    "print(\"\\nVeto File\\n\")\n",
    "for item in data_file.keys():\n",
    "    print(str(item) + \": length \" + str(len(data_OD_veto[item])) + ', ', str(len(data_OD_veto[item])/test_total))\n",
    "print('Total: ' + str(test_total))"
   ]
  },
  {
   "cell_type": "markdown",
   "id": "filled-product",
   "metadata": {},
   "source": [
    "Combine datasets to build a single .npz indices file. Test indices come from Veto file, train and validation indices come from Non-Veto file."
   ]
  },
  {
   "cell_type": "code",
   "execution_count": 21,
   "id": "pressing-failure",
   "metadata": {},
   "outputs": [],
   "source": [
    "save_path = '/fast_scratch/WatChMaL/data/IWCD_mPMT_Short_3M_full_train_4_class_OD_veto_test_idxs.npz'\n",
    "\n",
    "outfile = np.savez(save_path, train_idxs=data_file['train_idxs'], val_idxs=data_file['val_idxs'], \n",
    "                   test_idxs=data_OD_veto['test_idxs'])"
   ]
  },
  {
   "cell_type": "code",
   "execution_count": 22,
   "id": "little-senator",
   "metadata": {},
   "outputs": [
    {
     "data": {
      "text/plain": [
       "['train_idxs', 'val_idxs', 'test_idxs']"
      ]
     },
     "execution_count": 22,
     "metadata": {},
     "output_type": "execute_result"
    }
   ],
   "source": [
    "npzfile = np.load('/fast_scratch/WatChMaL/data/IWCD_mPMT_Short_3M_full_train_4_class_OD_veto_test_idxs.npz')\n",
    "npzfile.files"
   ]
  },
  {
   "cell_type": "code",
   "execution_count": 23,
   "id": "interesting-treatment",
   "metadata": {},
   "outputs": [
    {
     "name": "stdout",
     "output_type": "stream",
     "text": [
      "5840397\n",
      "1168108\n",
      "3722235\n"
     ]
    }
   ],
   "source": [
    "for file in npzfile.files:\n",
    "    print(len(npzfile[file]))"
   ]
  }
 ],
 "metadata": {
  "kernelspec": {
   "display_name": "Python 3",
   "language": "python",
   "name": "python3"
  },
  "language_info": {
   "codemirror_mode": {
    "name": "ipython",
    "version": 3
   },
   "file_extension": ".py",
   "mimetype": "text/x-python",
   "name": "python",
   "nbconvert_exporter": "python",
   "pygments_lexer": "ipython3",
   "version": "3.8.5"
  }
 },
 "nbformat": 4,
 "nbformat_minor": 5
}
